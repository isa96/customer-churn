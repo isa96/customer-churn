{
 "cells": [
  {
   "cell_type": "code",
   "execution_count": 1,
   "metadata": {},
   "outputs": [],
   "source": [
    "# Import Library\n",
    "\n",
    "import pickle\n",
    "import pandas as pd\n",
    "import numpy as np\n",
    "from tensorflow.keras.models import load_model"
   ]
  },
  {
   "cell_type": "code",
   "execution_count": 2,
   "metadata": {},
   "outputs": [],
   "source": [
    "# Load Model\n",
    "\n",
    "with open('preprocessor.pkl', 'rb') as file_1:\n",
    "  preprocessor = pickle.load(file_1)\n",
    "  \n",
    "model_churn = load_model('churn_model.h5', compile=False)\n"
   ]
  },
  {
   "cell_type": "code",
   "execution_count": 3,
   "metadata": {},
   "outputs": [
    {
     "data": {
      "text/html": [
       "<div>\n",
       "<style scoped>\n",
       "    .dataframe tbody tr th:only-of-type {\n",
       "        vertical-align: middle;\n",
       "    }\n",
       "\n",
       "    .dataframe tbody tr th {\n",
       "        vertical-align: top;\n",
       "    }\n",
       "\n",
       "    .dataframe thead th {\n",
       "        text-align: right;\n",
       "    }\n",
       "</style>\n",
       "<table border=\"1\" class=\"dataframe\">\n",
       "  <thead>\n",
       "    <tr style=\"text-align: right;\">\n",
       "      <th></th>\n",
       "      <th>user_id</th>\n",
       "      <th>age</th>\n",
       "      <th>gender</th>\n",
       "      <th>region_category</th>\n",
       "      <th>membership_category</th>\n",
       "      <th>joining_date</th>\n",
       "      <th>joined_through_referral</th>\n",
       "      <th>preferred_offer_types</th>\n",
       "      <th>medium_of_operation</th>\n",
       "      <th>internet_option</th>\n",
       "      <th>...</th>\n",
       "      <th>days_since_last_login</th>\n",
       "      <th>avg_time_spent</th>\n",
       "      <th>avg_transaction_value</th>\n",
       "      <th>avg_frequency_login_days</th>\n",
       "      <th>points_in_wallet</th>\n",
       "      <th>used_special_discount</th>\n",
       "      <th>offer_application_preference</th>\n",
       "      <th>past_complaint</th>\n",
       "      <th>complaint_status</th>\n",
       "      <th>feedback</th>\n",
       "    </tr>\n",
       "  </thead>\n",
       "  <tbody>\n",
       "    <tr>\n",
       "      <th>0</th>\n",
       "      <td>b3d2711f4d267c7a</td>\n",
       "      <td>40</td>\n",
       "      <td>M</td>\n",
       "      <td>Town</td>\n",
       "      <td>Gold Membership</td>\n",
       "      <td>2016-10-18</td>\n",
       "      <td>Yes</td>\n",
       "      <td>Without Offers</td>\n",
       "      <td>Both</td>\n",
       "      <td>Fiber_Optic</td>\n",
       "      <td>...</td>\n",
       "      <td>6</td>\n",
       "      <td>34</td>\n",
       "      <td>30000</td>\n",
       "      <td>24</td>\n",
       "      <td>600</td>\n",
       "      <td>Yes</td>\n",
       "      <td>Yes</td>\n",
       "      <td>Yes</td>\n",
       "      <td>Unsolved</td>\n",
       "      <td>Too many ads</td>\n",
       "    </tr>\n",
       "  </tbody>\n",
       "</table>\n",
       "<p>1 rows × 21 columns</p>\n",
       "</div>"
      ],
      "text/plain": [
       "            user_id  age gender region_category membership_category  \\\n",
       "0  b3d2711f4d267c7a   40      M            Town     Gold Membership   \n",
       "\n",
       "  joining_date joined_through_referral preferred_offer_types  \\\n",
       "0   2016-10-18                     Yes        Without Offers   \n",
       "\n",
       "  medium_of_operation internet_option  ... days_since_last_login  \\\n",
       "0                Both     Fiber_Optic  ...                     6   \n",
       "\n",
       "   avg_time_spent  avg_transaction_value  avg_frequency_login_days  \\\n",
       "0              34                  30000                        24   \n",
       "\n",
       "   points_in_wallet  used_special_discount offer_application_preference  \\\n",
       "0               600                    Yes                          Yes   \n",
       "\n",
       "  past_complaint complaint_status      feedback  \n",
       "0            Yes         Unsolved  Too many ads  \n",
       "\n",
       "[1 rows x 21 columns]"
      ]
     },
     "execution_count": 3,
     "metadata": {},
     "output_type": "execute_result"
    }
   ],
   "source": [
    "# Create New Data \n",
    "\n",
    "data_inf = {\n",
    "    'user_id' : 'b3d2711f4d267c7a',\n",
    "    'age' : 40,\n",
    "    'gender' : 'M',\n",
    "    'region_category' : 'Town',\n",
    "    'membership_category' : 'Gold Membership',  \n",
    "    'joining_date' : '2016-10-18',\n",
    "    'joined_through_referral' : 'Yes',\n",
    "    'preferred_offer_types' : 'Without Offers',\n",
    "    'medium_of_operation' : 'Both',\n",
    "    'internet_option' : 'Fiber_Optic',\n",
    "    'last_visit_time' : '17:53:32',         \n",
    "    'days_since_last_login' : 6,\n",
    "    'avg_time_spent' : 34,      \n",
    "    'avg_transaction_value' : 30000,         \n",
    "    'avg_frequency_login_days' : 24,      \n",
    "    'points_in_wallet' : 600,\n",
    "    'used_special_discount' : 'Yes',         \n",
    "    'offer_application_preference'  : 'Yes',\n",
    "    'past_complaint' : 'Yes',                \n",
    "    'complaint_status' : 'Unsolved',       \n",
    "    'feedback' : 'Too many ads'                                    \n",
    "}\n",
    "\n",
    "data_inf = pd.DataFrame([data_inf])\n",
    "data_inf"
   ]
  },
  {
   "cell_type": "code",
   "execution_count": 4,
   "metadata": {},
   "outputs": [],
   "source": [
    "# Preprocessing data inference\n",
    "data_final = preprocessor.transform(data_inf)"
   ]
  },
  {
   "cell_type": "code",
   "execution_count": 5,
   "metadata": {},
   "outputs": [
    {
     "name": "stdout",
     "output_type": "stream",
     "text": [
      "1/1 [==============================] - 0s 138ms/step\n"
     ]
    },
    {
     "data": {
      "text/plain": [
       "array([[1]])"
      ]
     },
     "execution_count": 5,
     "metadata": {},
     "output_type": "execute_result"
    }
   ],
   "source": [
    "# Prediksi data inference\n",
    "\n",
    "y_inf_pred = np.where(model_churn.predict(data_final) >= 0.5, 1, 0)\n",
    "y_inf_pred"
   ]
  }
 ],
 "metadata": {
  "kernelspec": {
   "display_name": "base",
   "language": "python",
   "name": "python3"
  },
  "language_info": {
   "codemirror_mode": {
    "name": "ipython",
    "version": 3
   },
   "file_extension": ".py",
   "mimetype": "text/x-python",
   "name": "python",
   "nbconvert_exporter": "python",
   "pygments_lexer": "ipython3",
   "version": "3.9.13"
  },
  "orig_nbformat": 4,
  "vscode": {
   "interpreter": {
    "hash": "263930470851f494f0ed2879c35b57985588df20f9e529b86e97dd5eb9ddc466"
   }
  }
 },
 "nbformat": 4,
 "nbformat_minor": 2
}
